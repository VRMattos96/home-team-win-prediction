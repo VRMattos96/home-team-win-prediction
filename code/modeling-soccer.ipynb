{
 "cells": [
  {
   "cell_type": "code",
   "execution_count": 29,
   "metadata": {},
   "outputs": [],
   "source": [
    "import sqlite3\n",
    "import pandas as pd\n",
    "import numpy as np \n",
    "import matplotlib.pyplot as plt \n",
    "\n",
    "from sklearn.linear_model import LogisticRegression\n",
    "from sklearn.model_selection import train_test_split,cross_val_score\n",
    "from sklearn.metrics import roc_auc_score,confusion_matrix, classification_report, roc_curve, auc\n",
    "from sklearn.preprocessing import StandardScaler\n",
    "from sklearn.feature_extraction import DictVectorizer"
   ]
  },
  {
   "cell_type": "code",
   "execution_count": 2,
   "metadata": {},
   "outputs": [],
   "source": [
    "conn =  sqlite3.connect(\"C://Users//Victor Manuel//Documents//Machine Learning//soccer-analysis//database//database.sqlite\")\n",
    "\n",
    "table_name = \"Match\"\n",
    "query = f\"SELECT * FROM {table_name};\"\n",
    "\n",
    "match_df = pd.read_sql_query(query, conn)"
   ]
  },
  {
   "cell_type": "code",
   "execution_count": 3,
   "metadata": {},
   "outputs": [],
   "source": [
    "table_name = \"Player\"\n",
    "query = f\"SELECT * FROM {table_name};\"\n",
    "player_df = pd.read_sql_query(query,conn)"
   ]
  },
  {
   "cell_type": "code",
   "execution_count": 4,
   "metadata": {},
   "outputs": [],
   "source": [
    "table_name = 'Team'\n",
    "query = f\"SELECT * FROM {table_name};\"\n",
    "teams_df = pd.read_sql_query(query, conn)"
   ]
  },
  {
   "cell_type": "code",
   "execution_count": 5,
   "metadata": {},
   "outputs": [
    {
     "name": "stdout",
     "output_type": "stream",
     "text": [
      "['home_team_api_id', 'away_team_api_id', 'home_team_goal', 'away_team_goal', 'home_player_1', 'home_player_2', 'home_player_3', 'home_player_4', 'home_player_5', 'home_player_6', 'home_player_7', 'home_player_8', 'home_player_9', 'home_player_10', 'home_player_11', 'away_player_1', 'away_player_2', 'away_player_3', 'away_player_4', 'away_player_5', 'away_player_6', 'away_player_7', 'away_player_8', 'away_player_9', 'away_player_10', 'away_player_11']\n"
     ]
    }
   ],
   "source": [
    "h_players = 'home_player_'\n",
    "a_players = 'away_player_'\n",
    "home_players = []\n",
    "away_players = []\n",
    "\n",
    "for i in range(11):\n",
    "    home_players.append(h_players+str(i+1))\n",
    "    away_players.append(a_players+str(i+1))\n",
    "\n",
    "features = ['home_team_api_id','away_team_api_id','home_team_goal','away_team_goal'] + home_players + away_players\n",
    "print(features)"
   ]
  },
  {
   "cell_type": "code",
   "execution_count": 6,
   "metadata": {},
   "outputs": [],
   "source": [
    "def compare_columns(row):\n",
    "    if row['home_team_goal'] > row['away_team_goal']:\n",
    "        return 1\n",
    "    else:\n",
    "        return 0"
   ]
  },
  {
   "cell_type": "code",
   "execution_count": 7,
   "metadata": {},
   "outputs": [],
   "source": [
    "#Return only Premier Leage games (league_id = 1729).\n",
    "\n",
    "match_df = match_df[match_df['league_id'] == 1729]\n",
    "df = match_df[features]\n",
    "df = df.dropna()\n",
    "\n",
    "for i in range(len(home_players)):\n",
    "    # Merge match_df with player_df\n",
    "    \n",
    "    df = df.merge(player_df, left_on = home_players[i], right_on='player_api_id', how= 'left')\n",
    "    df.drop(columns = [home_players[i],'id','player_api_id','player_fifa_api_id','birthday','height','weight'],inplace = True)\n",
    "    df.rename(columns={'player_name': 'name_home_player_'+str(i+1)}, inplace = True)\n",
    "\n",
    "    df = df.merge(player_df, left_on = away_players[i], right_on='player_api_id', how = 'left')\n",
    "    df.drop(columns = [away_players[i],'id','player_api_id','player_fifa_api_id','birthday','height','weight'],inplace = True)\n",
    "    df.rename(columns={'player_name': 'name_away_player_'+str(i+1)}, inplace = True)\n",
    "\n",
    "\n",
    "# Merge match_df with teams_df\n",
    "df = df.merge(teams_df, left_on = 'home_team_api_id', right_on = 'team_api_id' ,how = 'left')\n",
    "df.rename(columns = {'team_short_name':'home_team'}, inplace = True)\n",
    "df.drop(columns = ['home_team_api_id','id','team_api_id','team_fifa_api_id','team_long_name'],inplace = True)\n",
    "\n",
    "df = df.merge(teams_df, left_on = 'away_team_api_id', right_on = 'team_api_id' ,how = 'left')\n",
    "df.rename(columns = {'team_short_name':'away_team'},inplace = True)\n",
    "df.drop(columns = ['away_team_api_id','id','team_api_id','team_fifa_api_id','team_long_name'],inplace = True)"
   ]
  },
  {
   "cell_type": "code",
   "execution_count": 8,
   "metadata": {},
   "outputs": [],
   "source": [
    "str_col = list(df.dtypes[df.dtypes == 'object'].index)\n",
    "for col in str_col:\n",
    "    df[col] = df[col].str.lower().str.replace(' ','_')"
   ]
  },
  {
   "cell_type": "code",
   "execution_count": 9,
   "metadata": {},
   "outputs": [
    {
     "data": {
      "text/html": [
       "<div>\n",
       "<style scoped>\n",
       "    .dataframe tbody tr th:only-of-type {\n",
       "        vertical-align: middle;\n",
       "    }\n",
       "\n",
       "    .dataframe tbody tr th {\n",
       "        vertical-align: top;\n",
       "    }\n",
       "\n",
       "    .dataframe thead th {\n",
       "        text-align: right;\n",
       "    }\n",
       "</style>\n",
       "<table border=\"1\" class=\"dataframe\">\n",
       "  <thead>\n",
       "    <tr style=\"text-align: right;\">\n",
       "      <th></th>\n",
       "      <th>name_home_player_1</th>\n",
       "      <th>name_away_player_1</th>\n",
       "      <th>name_home_player_2</th>\n",
       "      <th>name_away_player_2</th>\n",
       "      <th>name_home_player_3</th>\n",
       "      <th>name_away_player_3</th>\n",
       "      <th>name_home_player_4</th>\n",
       "      <th>name_away_player_4</th>\n",
       "      <th>name_home_player_5</th>\n",
       "      <th>name_away_player_5</th>\n",
       "      <th>...</th>\n",
       "      <th>name_away_player_8</th>\n",
       "      <th>name_home_player_9</th>\n",
       "      <th>name_away_player_9</th>\n",
       "      <th>name_home_player_10</th>\n",
       "      <th>name_away_player_10</th>\n",
       "      <th>name_home_player_11</th>\n",
       "      <th>name_away_player_11</th>\n",
       "      <th>home_team</th>\n",
       "      <th>away_team</th>\n",
       "      <th>home_team_win</th>\n",
       "    </tr>\n",
       "  </thead>\n",
       "  <tbody>\n",
       "    <tr>\n",
       "      <th>0</th>\n",
       "      <td>edwin_van_der_sar</td>\n",
       "      <td>shay_given</td>\n",
       "      <td>wes_brown</td>\n",
       "      <td>habib_beye</td>\n",
       "      <td>rio_ferdinand</td>\n",
       "      <td>steven_taylor</td>\n",
       "      <td>nemanja_vidic</td>\n",
       "      <td>fabricio_coloccini</td>\n",
       "      <td>patrice_evra</td>\n",
       "      <td>charles_n'zogbia</td>\n",
       "      <td>...</td>\n",
       "      <td>nicky_butt</td>\n",
       "      <td>ryan_giggs</td>\n",
       "      <td>jonas_gutierrez</td>\n",
       "      <td>fraizer_campbell</td>\n",
       "      <td>damien_duff</td>\n",
       "      <td>wayne_rooney</td>\n",
       "      <td>obafemi_martins</td>\n",
       "      <td>mun</td>\n",
       "      <td>new</td>\n",
       "      <td>0</td>\n",
       "    </tr>\n",
       "    <tr>\n",
       "      <th>1</th>\n",
       "      <td>manuel_almunia</td>\n",
       "      <td>scott_carson</td>\n",
       "      <td>bacary_sagna</td>\n",
       "      <td>carl_hoefkens</td>\n",
       "      <td>william_gallas</td>\n",
       "      <td>leon_barnett</td>\n",
       "      <td>johan_djourou</td>\n",
       "      <td>abdoulaye_meite</td>\n",
       "      <td>gael_clichy</td>\n",
       "      <td>paul_robinson</td>\n",
       "      <td>...</td>\n",
       "      <td>chris_brunt</td>\n",
       "      <td>samir_nasri</td>\n",
       "      <td>james_morrison</td>\n",
       "      <td>emmanuel_adebayor</td>\n",
       "      <td>marek_cech</td>\n",
       "      <td>nicklas_bendtner</td>\n",
       "      <td>ishmael_miller</td>\n",
       "      <td>ars</td>\n",
       "      <td>wba</td>\n",
       "      <td>1</td>\n",
       "    </tr>\n",
       "    <tr>\n",
       "      <th>2</th>\n",
       "      <td>craig_gordon</td>\n",
       "      <td>pepe_reina</td>\n",
       "      <td>pascal_chimbonda</td>\n",
       "      <td>alvaro_arbeloa</td>\n",
       "      <td>nyron_nosworthy</td>\n",
       "      <td>jamie_carragher</td>\n",
       "      <td>danny_collins</td>\n",
       "      <td>sami_hyypiae</td>\n",
       "      <td>phil_bardsley</td>\n",
       "      <td>andrea_dossena</td>\n",
       "      <td>...</td>\n",
       "      <td>damien_plessis</td>\n",
       "      <td>kieran_richardson</td>\n",
       "      <td>yossi_benayoun</td>\n",
       "      <td>el_hadji_diouf</td>\n",
       "      <td>robbie_keane</td>\n",
       "      <td>daryl_murphy</td>\n",
       "      <td>fernando_torres</td>\n",
       "      <td>sun</td>\n",
       "      <td>liv</td>\n",
       "      <td>0</td>\n",
       "    </tr>\n",
       "    <tr>\n",
       "      <th>3</th>\n",
       "      <td>robert_green</td>\n",
       "      <td>chris_kirkland</td>\n",
       "      <td>valon_behrami</td>\n",
       "      <td>mario_melchiot</td>\n",
       "      <td>matthew_upson</td>\n",
       "      <td>emmerson_boyce</td>\n",
       "      <td>calum_davenport</td>\n",
       "      <td>maynor_figueroa</td>\n",
       "      <td>lucas_neill</td>\n",
       "      <td>paul_scharner</td>\n",
       "      <td>...</td>\n",
       "      <td>wilson_palacios</td>\n",
       "      <td>matthew_etherington</td>\n",
       "      <td>olivier_kapo</td>\n",
       "      <td>carlton_cole</td>\n",
       "      <td>amr_zaki</td>\n",
       "      <td>dean_ashton</td>\n",
       "      <td>emile_heskey</td>\n",
       "      <td>whu</td>\n",
       "      <td>wig</td>\n",
       "      <td>1</td>\n",
       "    </tr>\n",
       "    <tr>\n",
       "      <th>4</th>\n",
       "      <td>tim_howard</td>\n",
       "      <td>paul_robinson</td>\n",
       "      <td>philip_neville</td>\n",
       "      <td>andre_ooijer</td>\n",
       "      <td>joseph_yobo</td>\n",
       "      <td>christopher_samba</td>\n",
       "      <td>joleon_lescott</td>\n",
       "      <td>ryan_nelsen</td>\n",
       "      <td>nuno_valente</td>\n",
       "      <td>stephen_warnock</td>\n",
       "      <td>...</td>\n",
       "      <td>morten_gamst_pedersen</td>\n",
       "      <td>leighton_baines</td>\n",
       "      <td>steven_reid</td>\n",
       "      <td>leon_osman</td>\n",
       "      <td>jason_roberts</td>\n",
       "      <td>aiyegbeni_yakubu</td>\n",
       "      <td>roque_santa_cruz</td>\n",
       "      <td>eve</td>\n",
       "      <td>blb</td>\n",
       "      <td>0</td>\n",
       "    </tr>\n",
       "  </tbody>\n",
       "</table>\n",
       "<p>5 rows × 25 columns</p>\n",
       "</div>"
      ],
      "text/plain": [
       "  name_home_player_1 name_away_player_1 name_home_player_2 name_away_player_2  \\\n",
       "0  edwin_van_der_sar         shay_given          wes_brown         habib_beye   \n",
       "1     manuel_almunia       scott_carson       bacary_sagna      carl_hoefkens   \n",
       "2       craig_gordon         pepe_reina   pascal_chimbonda     alvaro_arbeloa   \n",
       "3       robert_green     chris_kirkland      valon_behrami     mario_melchiot   \n",
       "4         tim_howard      paul_robinson     philip_neville       andre_ooijer   \n",
       "\n",
       "  name_home_player_3 name_away_player_3 name_home_player_4  \\\n",
       "0      rio_ferdinand      steven_taylor      nemanja_vidic   \n",
       "1     william_gallas       leon_barnett      johan_djourou   \n",
       "2    nyron_nosworthy    jamie_carragher      danny_collins   \n",
       "3      matthew_upson     emmerson_boyce    calum_davenport   \n",
       "4        joseph_yobo  christopher_samba     joleon_lescott   \n",
       "\n",
       "   name_away_player_4 name_home_player_5 name_away_player_5  ...  \\\n",
       "0  fabricio_coloccini       patrice_evra   charles_n'zogbia  ...   \n",
       "1     abdoulaye_meite        gael_clichy      paul_robinson  ...   \n",
       "2        sami_hyypiae      phil_bardsley     andrea_dossena  ...   \n",
       "3     maynor_figueroa        lucas_neill      paul_scharner  ...   \n",
       "4         ryan_nelsen       nuno_valente    stephen_warnock  ...   \n",
       "\n",
       "      name_away_player_8   name_home_player_9 name_away_player_9  \\\n",
       "0             nicky_butt           ryan_giggs    jonas_gutierrez   \n",
       "1            chris_brunt          samir_nasri     james_morrison   \n",
       "2         damien_plessis    kieran_richardson     yossi_benayoun   \n",
       "3        wilson_palacios  matthew_etherington       olivier_kapo   \n",
       "4  morten_gamst_pedersen      leighton_baines        steven_reid   \n",
       "\n",
       "  name_home_player_10 name_away_player_10 name_home_player_11  \\\n",
       "0    fraizer_campbell         damien_duff        wayne_rooney   \n",
       "1   emmanuel_adebayor          marek_cech    nicklas_bendtner   \n",
       "2      el_hadji_diouf        robbie_keane        daryl_murphy   \n",
       "3        carlton_cole            amr_zaki         dean_ashton   \n",
       "4          leon_osman       jason_roberts    aiyegbeni_yakubu   \n",
       "\n",
       "  name_away_player_11 home_team away_team home_team_win  \n",
       "0     obafemi_martins       mun       new             0  \n",
       "1      ishmael_miller       ars       wba             1  \n",
       "2     fernando_torres       sun       liv             0  \n",
       "3        emile_heskey       whu       wig             1  \n",
       "4    roque_santa_cruz       eve       blb             0  \n",
       "\n",
       "[5 rows x 25 columns]"
      ]
     },
     "execution_count": 9,
     "metadata": {},
     "output_type": "execute_result"
    }
   ],
   "source": [
    "df['home_team_win'] = df.apply(compare_columns,axis=1)\n",
    "df.drop(columns = ['home_team_goal','away_team_goal'],inplace = True)\n",
    "df.head()"
   ]
  },
  {
   "cell_type": "code",
   "execution_count": 10,
   "metadata": {},
   "outputs": [
    {
     "name": "stdout",
     "output_type": "stream",
     "text": [
      "['name_home_player_1', 'name_home_player_2', 'name_home_player_3', 'name_home_player_4', 'name_home_player_5', 'name_home_player_6', 'name_home_player_7', 'name_home_player_8', 'name_home_player_9', 'name_home_player_10', 'name_home_player_11', 'name_away_player_1', 'name_away_player_2', 'name_away_player_3', 'name_away_player_4', 'name_away_player_5', 'name_away_player_6', 'name_away_player_7', 'name_away_player_8', 'name_away_player_9', 'name_away_player_10', 'name_away_player_11']\n"
     ]
    }
   ],
   "source": [
    "name_h_players = 'name_home_player_'\n",
    "name_a_players = 'name_away_player_'\n",
    "name_home_players = []\n",
    "name_away_players = []\n",
    "\n",
    "for i in range(11):\n",
    "    name_home_players.append(name_h_players+str(i+1))\n",
    "    name_away_players.append(name_a_players+str(i+1))\n",
    "\n",
    "player_columns = name_home_players + name_away_players\n",
    "print(player_columns)"
   ]
  },
  {
   "cell_type": "code",
   "execution_count": 11,
   "metadata": {},
   "outputs": [],
   "source": [
    "encoded_df = df.copy()\n",
    "\n",
    "for col in player_columns:\n",
    "    encoded_df = pd.get_dummies(encoded_df, columns = [col]) "
   ]
  },
  {
   "cell_type": "code",
   "execution_count": 12,
   "metadata": {},
   "outputs": [],
   "source": [
    "#Adding the teams\n",
    "encoded_df['home_team'] = df[['home_team']]\n",
    "encoded_df['away_team'] = df[['away_team']]\n",
    "\n",
    "#Encoding the teams\n",
    "encoded_df = pd.get_dummies(encoded_df, columns = ['home_team'], prefix = 'h_')\n",
    "encoded_df = pd.get_dummies(encoded_df, columns = ['away_team'], prefix = 'a_')\n",
    "\n",
    "#Adding the result\n",
    "encoded_df['home_team_win'] = df[['home_team_win']]"
   ]
  },
  {
   "cell_type": "code",
   "execution_count": 13,
   "metadata": {},
   "outputs": [
    {
     "data": {
      "text/html": [
       "<div>\n",
       "<style scoped>\n",
       "    .dataframe tbody tr th:only-of-type {\n",
       "        vertical-align: middle;\n",
       "    }\n",
       "\n",
       "    .dataframe tbody tr th {\n",
       "        vertical-align: top;\n",
       "    }\n",
       "\n",
       "    .dataframe thead th {\n",
       "        text-align: right;\n",
       "    }\n",
       "</style>\n",
       "<table border=\"1\" class=\"dataframe\">\n",
       "  <thead>\n",
       "    <tr style=\"text-align: right;\">\n",
       "      <th></th>\n",
       "      <th>home_team_win</th>\n",
       "      <th>name_home_player_1_adam_bogdan</th>\n",
       "      <th>name_home_player_1_adam_federici</th>\n",
       "      <th>name_home_player_1_adrian</th>\n",
       "      <th>name_home_player_1_alex_mccarthy</th>\n",
       "      <th>name_home_player_1_ali_al-habsi</th>\n",
       "      <th>name_home_player_1_allan_mcgregor</th>\n",
       "      <th>name_home_player_1_anders_lindegaard</th>\n",
       "      <th>name_home_player_1_artur_boruc</th>\n",
       "      <th>name_home_player_1_asmir_begovic</th>\n",
       "      <th>...</th>\n",
       "      <th>a__sou</th>\n",
       "      <th>a__stk</th>\n",
       "      <th>a__sun</th>\n",
       "      <th>a__swa</th>\n",
       "      <th>a__tot</th>\n",
       "      <th>a__wat</th>\n",
       "      <th>a__wba</th>\n",
       "      <th>a__whu</th>\n",
       "      <th>a__wig</th>\n",
       "      <th>a__wol</th>\n",
       "    </tr>\n",
       "  </thead>\n",
       "  <tbody>\n",
       "    <tr>\n",
       "      <th>0</th>\n",
       "      <td>0</td>\n",
       "      <td>0</td>\n",
       "      <td>0</td>\n",
       "      <td>0</td>\n",
       "      <td>0</td>\n",
       "      <td>0</td>\n",
       "      <td>0</td>\n",
       "      <td>0</td>\n",
       "      <td>0</td>\n",
       "      <td>0</td>\n",
       "      <td>...</td>\n",
       "      <td>0</td>\n",
       "      <td>0</td>\n",
       "      <td>0</td>\n",
       "      <td>0</td>\n",
       "      <td>0</td>\n",
       "      <td>0</td>\n",
       "      <td>0</td>\n",
       "      <td>0</td>\n",
       "      <td>0</td>\n",
       "      <td>0</td>\n",
       "    </tr>\n",
       "    <tr>\n",
       "      <th>1</th>\n",
       "      <td>1</td>\n",
       "      <td>0</td>\n",
       "      <td>0</td>\n",
       "      <td>0</td>\n",
       "      <td>0</td>\n",
       "      <td>0</td>\n",
       "      <td>0</td>\n",
       "      <td>0</td>\n",
       "      <td>0</td>\n",
       "      <td>0</td>\n",
       "      <td>...</td>\n",
       "      <td>0</td>\n",
       "      <td>0</td>\n",
       "      <td>0</td>\n",
       "      <td>0</td>\n",
       "      <td>0</td>\n",
       "      <td>0</td>\n",
       "      <td>1</td>\n",
       "      <td>0</td>\n",
       "      <td>0</td>\n",
       "      <td>0</td>\n",
       "    </tr>\n",
       "    <tr>\n",
       "      <th>2</th>\n",
       "      <td>0</td>\n",
       "      <td>0</td>\n",
       "      <td>0</td>\n",
       "      <td>0</td>\n",
       "      <td>0</td>\n",
       "      <td>0</td>\n",
       "      <td>0</td>\n",
       "      <td>0</td>\n",
       "      <td>0</td>\n",
       "      <td>0</td>\n",
       "      <td>...</td>\n",
       "      <td>0</td>\n",
       "      <td>0</td>\n",
       "      <td>0</td>\n",
       "      <td>0</td>\n",
       "      <td>0</td>\n",
       "      <td>0</td>\n",
       "      <td>0</td>\n",
       "      <td>0</td>\n",
       "      <td>0</td>\n",
       "      <td>0</td>\n",
       "    </tr>\n",
       "    <tr>\n",
       "      <th>3</th>\n",
       "      <td>1</td>\n",
       "      <td>0</td>\n",
       "      <td>0</td>\n",
       "      <td>0</td>\n",
       "      <td>0</td>\n",
       "      <td>0</td>\n",
       "      <td>0</td>\n",
       "      <td>0</td>\n",
       "      <td>0</td>\n",
       "      <td>0</td>\n",
       "      <td>...</td>\n",
       "      <td>0</td>\n",
       "      <td>0</td>\n",
       "      <td>0</td>\n",
       "      <td>0</td>\n",
       "      <td>0</td>\n",
       "      <td>0</td>\n",
       "      <td>0</td>\n",
       "      <td>0</td>\n",
       "      <td>1</td>\n",
       "      <td>0</td>\n",
       "    </tr>\n",
       "    <tr>\n",
       "      <th>4</th>\n",
       "      <td>0</td>\n",
       "      <td>0</td>\n",
       "      <td>0</td>\n",
       "      <td>0</td>\n",
       "      <td>0</td>\n",
       "      <td>0</td>\n",
       "      <td>0</td>\n",
       "      <td>0</td>\n",
       "      <td>0</td>\n",
       "      <td>0</td>\n",
       "      <td>...</td>\n",
       "      <td>0</td>\n",
       "      <td>0</td>\n",
       "      <td>0</td>\n",
       "      <td>0</td>\n",
       "      <td>0</td>\n",
       "      <td>0</td>\n",
       "      <td>0</td>\n",
       "      <td>0</td>\n",
       "      <td>0</td>\n",
       "      <td>0</td>\n",
       "    </tr>\n",
       "  </tbody>\n",
       "</table>\n",
       "<p>5 rows × 7475 columns</p>\n",
       "</div>"
      ],
      "text/plain": [
       "   home_team_win  name_home_player_1_adam_bogdan  \\\n",
       "0              0                               0   \n",
       "1              1                               0   \n",
       "2              0                               0   \n",
       "3              1                               0   \n",
       "4              0                               0   \n",
       "\n",
       "   name_home_player_1_adam_federici  name_home_player_1_adrian  \\\n",
       "0                                 0                          0   \n",
       "1                                 0                          0   \n",
       "2                                 0                          0   \n",
       "3                                 0                          0   \n",
       "4                                 0                          0   \n",
       "\n",
       "   name_home_player_1_alex_mccarthy  name_home_player_1_ali_al-habsi  \\\n",
       "0                                 0                                0   \n",
       "1                                 0                                0   \n",
       "2                                 0                                0   \n",
       "3                                 0                                0   \n",
       "4                                 0                                0   \n",
       "\n",
       "   name_home_player_1_allan_mcgregor  name_home_player_1_anders_lindegaard  \\\n",
       "0                                  0                                     0   \n",
       "1                                  0                                     0   \n",
       "2                                  0                                     0   \n",
       "3                                  0                                     0   \n",
       "4                                  0                                     0   \n",
       "\n",
       "   name_home_player_1_artur_boruc  name_home_player_1_asmir_begovic  ...  \\\n",
       "0                               0                                 0  ...   \n",
       "1                               0                                 0  ...   \n",
       "2                               0                                 0  ...   \n",
       "3                               0                                 0  ...   \n",
       "4                               0                                 0  ...   \n",
       "\n",
       "   a__sou  a__stk  a__sun  a__swa  a__tot  a__wat  a__wba  a__whu  a__wig  \\\n",
       "0       0       0       0       0       0       0       0       0       0   \n",
       "1       0       0       0       0       0       0       1       0       0   \n",
       "2       0       0       0       0       0       0       0       0       0   \n",
       "3       0       0       0       0       0       0       0       0       1   \n",
       "4       0       0       0       0       0       0       0       0       0   \n",
       "\n",
       "   a__wol  \n",
       "0       0  \n",
       "1       0  \n",
       "2       0  \n",
       "3       0  \n",
       "4       0  \n",
       "\n",
       "[5 rows x 7475 columns]"
      ]
     },
     "execution_count": 13,
     "metadata": {},
     "output_type": "execute_result"
    }
   ],
   "source": [
    "encoded_df.head()"
   ]
  },
  {
   "cell_type": "code",
   "execution_count": 14,
   "metadata": {},
   "outputs": [],
   "source": [
    "# columns_sum = encoded_df.sum()\n",
    "# columns_removed = columns_sum[columns_sum <10].index\n",
    "# filtered_encoded_df = encoded_df.drop(columns = columns_removed)"
   ]
  },
  {
   "cell_type": "code",
   "execution_count": 44,
   "metadata": {},
   "outputs": [],
   "source": [
    "X = encoded_df.iloc[:,1:].values\n",
    "y = encoded_df.iloc[:,0].values"
   ]
  },
  {
   "cell_type": "code",
   "execution_count": 45,
   "metadata": {},
   "outputs": [],
   "source": [
    "X_train,X_test,y_train,y_test = train_test_split(X,y,test_size=0.3,random_state=42)"
   ]
  },
  {
   "cell_type": "code",
   "execution_count": 46,
   "metadata": {},
   "outputs": [
    {
     "data": {
      "text/html": [
       "<style>#sk-container-id-5 {color: black;background-color: white;}#sk-container-id-5 pre{padding: 0;}#sk-container-id-5 div.sk-toggleable {background-color: white;}#sk-container-id-5 label.sk-toggleable__label {cursor: pointer;display: block;width: 100%;margin-bottom: 0;padding: 0.3em;box-sizing: border-box;text-align: center;}#sk-container-id-5 label.sk-toggleable__label-arrow:before {content: \"▸\";float: left;margin-right: 0.25em;color: #696969;}#sk-container-id-5 label.sk-toggleable__label-arrow:hover:before {color: black;}#sk-container-id-5 div.sk-estimator:hover label.sk-toggleable__label-arrow:before {color: black;}#sk-container-id-5 div.sk-toggleable__content {max-height: 0;max-width: 0;overflow: hidden;text-align: left;background-color: #f0f8ff;}#sk-container-id-5 div.sk-toggleable__content pre {margin: 0.2em;color: black;border-radius: 0.25em;background-color: #f0f8ff;}#sk-container-id-5 input.sk-toggleable__control:checked~div.sk-toggleable__content {max-height: 200px;max-width: 100%;overflow: auto;}#sk-container-id-5 input.sk-toggleable__control:checked~label.sk-toggleable__label-arrow:before {content: \"▾\";}#sk-container-id-5 div.sk-estimator input.sk-toggleable__control:checked~label.sk-toggleable__label {background-color: #d4ebff;}#sk-container-id-5 div.sk-label input.sk-toggleable__control:checked~label.sk-toggleable__label {background-color: #d4ebff;}#sk-container-id-5 input.sk-hidden--visually {border: 0;clip: rect(1px 1px 1px 1px);clip: rect(1px, 1px, 1px, 1px);height: 1px;margin: -1px;overflow: hidden;padding: 0;position: absolute;width: 1px;}#sk-container-id-5 div.sk-estimator {font-family: monospace;background-color: #f0f8ff;border: 1px dotted black;border-radius: 0.25em;box-sizing: border-box;margin-bottom: 0.5em;}#sk-container-id-5 div.sk-estimator:hover {background-color: #d4ebff;}#sk-container-id-5 div.sk-parallel-item::after {content: \"\";width: 100%;border-bottom: 1px solid gray;flex-grow: 1;}#sk-container-id-5 div.sk-label:hover label.sk-toggleable__label {background-color: #d4ebff;}#sk-container-id-5 div.sk-serial::before {content: \"\";position: absolute;border-left: 1px solid gray;box-sizing: border-box;top: 0;bottom: 0;left: 50%;z-index: 0;}#sk-container-id-5 div.sk-serial {display: flex;flex-direction: column;align-items: center;background-color: white;padding-right: 0.2em;padding-left: 0.2em;position: relative;}#sk-container-id-5 div.sk-item {position: relative;z-index: 1;}#sk-container-id-5 div.sk-parallel {display: flex;align-items: stretch;justify-content: center;background-color: white;position: relative;}#sk-container-id-5 div.sk-item::before, #sk-container-id-5 div.sk-parallel-item::before {content: \"\";position: absolute;border-left: 1px solid gray;box-sizing: border-box;top: 0;bottom: 0;left: 50%;z-index: -1;}#sk-container-id-5 div.sk-parallel-item {display: flex;flex-direction: column;z-index: 1;position: relative;background-color: white;}#sk-container-id-5 div.sk-parallel-item:first-child::after {align-self: flex-end;width: 50%;}#sk-container-id-5 div.sk-parallel-item:last-child::after {align-self: flex-start;width: 50%;}#sk-container-id-5 div.sk-parallel-item:only-child::after {width: 0;}#sk-container-id-5 div.sk-dashed-wrapped {border: 1px dashed gray;margin: 0 0.4em 0.5em 0.4em;box-sizing: border-box;padding-bottom: 0.4em;background-color: white;}#sk-container-id-5 div.sk-label label {font-family: monospace;font-weight: bold;display: inline-block;line-height: 1.2em;}#sk-container-id-5 div.sk-label-container {text-align: center;}#sk-container-id-5 div.sk-container {/* jupyter's `normalize.less` sets `[hidden] { display: none; }` but bootstrap.min.css set `[hidden] { display: none !important; }` so we also need the `!important` here to be able to override the default hidden behavior on the sphinx rendered scikit-learn.org. See: https://github.com/scikit-learn/scikit-learn/issues/21755 */display: inline-block !important;position: relative;}#sk-container-id-5 div.sk-text-repr-fallback {display: none;}</style><div id=\"sk-container-id-5\" class=\"sk-top-container\"><div class=\"sk-text-repr-fallback\"><pre>LogisticRegression()</pre><b>In a Jupyter environment, please rerun this cell to show the HTML representation or trust the notebook. <br />On GitHub, the HTML representation is unable to render, please try loading this page with nbviewer.org.</b></div><div class=\"sk-container\" hidden><div class=\"sk-item\"><div class=\"sk-estimator sk-toggleable\"><input class=\"sk-toggleable__control sk-hidden--visually\" id=\"sk-estimator-id-5\" type=\"checkbox\" checked><label for=\"sk-estimator-id-5\" class=\"sk-toggleable__label sk-toggleable__label-arrow\">LogisticRegression</label><div class=\"sk-toggleable__content\"><pre>LogisticRegression()</pre></div></div></div></div></div>"
      ],
      "text/plain": [
       "LogisticRegression()"
      ]
     },
     "execution_count": 46,
     "metadata": {},
     "output_type": "execute_result"
    }
   ],
   "source": [
    "logreg = LogisticRegression()\n",
    "logreg.fit(X_train,y_train.ravel())"
   ]
  },
  {
   "cell_type": "code",
   "execution_count": 47,
   "metadata": {},
   "outputs": [],
   "source": [
    "y_pred = logreg.predict(X_test)\n",
    "y_pred_proba = logreg.predict_proba(X_test)"
   ]
  },
  {
   "cell_type": "code",
   "execution_count": 48,
   "metadata": {},
   "outputs": [
    {
     "name": "stdout",
     "output_type": "stream",
     "text": [
      "The Logisitic Regression score is: 0.62\n",
      "\n",
      "Confussion Matrix:\n",
      "[[331 173]\n",
      " [167 218]]\n"
     ]
    }
   ],
   "source": [
    "score = logreg.score(X_test,y_test)\n",
    "print('The Logisitic Regression score is: ' + str(round(score,2)))\n",
    "print(\"\")\n",
    "conf_mat = confusion_matrix(y_test,y_pred)\n",
    "print('Confussion Matrix:')\n",
    "print(conf_mat)"
   ]
  },
  {
   "cell_type": "code",
   "execution_count": 68,
   "metadata": {},
   "outputs": [
    {
     "name": "stdout",
     "output_type": "stream",
     "text": [
      "              precision    recall  f1-score   support\n",
      "\n",
      "           0       0.66      0.66      0.66       504\n",
      "           1       0.56      0.57      0.56       385\n",
      "\n",
      "    accuracy                           0.62       889\n",
      "   macro avg       0.61      0.61      0.61       889\n",
      "weighted avg       0.62      0.62      0.62       889\n",
      "\n"
     ]
    }
   ],
   "source": [
    "classification_rep = classification_report(y_test,y_pred)\n",
    "print(classification_rep)"
   ]
  },
  {
   "cell_type": "code",
   "execution_count": 50,
   "metadata": {},
   "outputs": [
    {
     "name": "stdout",
     "output_type": "stream",
     "text": [
      "[0.59759036 0.61927711 0.62409639 0.60386473 0.57729469]\n"
     ]
    }
   ],
   "source": [
    "cval = cross_val_score(logreg,X_train,y_train.ravel(),cv=5)\n",
    "print(cval)"
   ]
  },
  {
   "cell_type": "markdown",
   "metadata": {},
   "source": [
    "Same analysis, however removing the Players from the DataFrame:"
   ]
  },
  {
   "cell_type": "code",
   "execution_count": 51,
   "metadata": {},
   "outputs": [],
   "source": [
    "df_reduced = df[['home_team','away_team']]"
   ]
  },
  {
   "cell_type": "code",
   "execution_count": 52,
   "metadata": {},
   "outputs": [],
   "source": [
    "df_reduced = pd.get_dummies(df_reduced, columns = ['home_team'], prefix = 'h_')\n",
    "df_reduced = pd.get_dummies(df_reduced, columns = ['away_team'], prefix = 'a_')\n",
    "\n",
    "#Adding the result\n",
    "df_reduced['home_team_win'] = df[['home_team_win']]"
   ]
  },
  {
   "cell_type": "code",
   "execution_count": 53,
   "metadata": {},
   "outputs": [],
   "source": [
    "Xr = df_reduced.iloc[:,:-1].values\n",
    "yr = df_reduced.iloc[:,-1].values"
   ]
  },
  {
   "cell_type": "code",
   "execution_count": 54,
   "metadata": {},
   "outputs": [],
   "source": [
    "Xr_train,Xr_test,yr_train,yr_test = train_test_split(Xr,yr,test_size=0.3,random_state=42)"
   ]
  },
  {
   "cell_type": "code",
   "execution_count": 55,
   "metadata": {},
   "outputs": [
    {
     "data": {
      "text/html": [
       "<style>#sk-container-id-6 {color: black;background-color: white;}#sk-container-id-6 pre{padding: 0;}#sk-container-id-6 div.sk-toggleable {background-color: white;}#sk-container-id-6 label.sk-toggleable__label {cursor: pointer;display: block;width: 100%;margin-bottom: 0;padding: 0.3em;box-sizing: border-box;text-align: center;}#sk-container-id-6 label.sk-toggleable__label-arrow:before {content: \"▸\";float: left;margin-right: 0.25em;color: #696969;}#sk-container-id-6 label.sk-toggleable__label-arrow:hover:before {color: black;}#sk-container-id-6 div.sk-estimator:hover label.sk-toggleable__label-arrow:before {color: black;}#sk-container-id-6 div.sk-toggleable__content {max-height: 0;max-width: 0;overflow: hidden;text-align: left;background-color: #f0f8ff;}#sk-container-id-6 div.sk-toggleable__content pre {margin: 0.2em;color: black;border-radius: 0.25em;background-color: #f0f8ff;}#sk-container-id-6 input.sk-toggleable__control:checked~div.sk-toggleable__content {max-height: 200px;max-width: 100%;overflow: auto;}#sk-container-id-6 input.sk-toggleable__control:checked~label.sk-toggleable__label-arrow:before {content: \"▾\";}#sk-container-id-6 div.sk-estimator input.sk-toggleable__control:checked~label.sk-toggleable__label {background-color: #d4ebff;}#sk-container-id-6 div.sk-label input.sk-toggleable__control:checked~label.sk-toggleable__label {background-color: #d4ebff;}#sk-container-id-6 input.sk-hidden--visually {border: 0;clip: rect(1px 1px 1px 1px);clip: rect(1px, 1px, 1px, 1px);height: 1px;margin: -1px;overflow: hidden;padding: 0;position: absolute;width: 1px;}#sk-container-id-6 div.sk-estimator {font-family: monospace;background-color: #f0f8ff;border: 1px dotted black;border-radius: 0.25em;box-sizing: border-box;margin-bottom: 0.5em;}#sk-container-id-6 div.sk-estimator:hover {background-color: #d4ebff;}#sk-container-id-6 div.sk-parallel-item::after {content: \"\";width: 100%;border-bottom: 1px solid gray;flex-grow: 1;}#sk-container-id-6 div.sk-label:hover label.sk-toggleable__label {background-color: #d4ebff;}#sk-container-id-6 div.sk-serial::before {content: \"\";position: absolute;border-left: 1px solid gray;box-sizing: border-box;top: 0;bottom: 0;left: 50%;z-index: 0;}#sk-container-id-6 div.sk-serial {display: flex;flex-direction: column;align-items: center;background-color: white;padding-right: 0.2em;padding-left: 0.2em;position: relative;}#sk-container-id-6 div.sk-item {position: relative;z-index: 1;}#sk-container-id-6 div.sk-parallel {display: flex;align-items: stretch;justify-content: center;background-color: white;position: relative;}#sk-container-id-6 div.sk-item::before, #sk-container-id-6 div.sk-parallel-item::before {content: \"\";position: absolute;border-left: 1px solid gray;box-sizing: border-box;top: 0;bottom: 0;left: 50%;z-index: -1;}#sk-container-id-6 div.sk-parallel-item {display: flex;flex-direction: column;z-index: 1;position: relative;background-color: white;}#sk-container-id-6 div.sk-parallel-item:first-child::after {align-self: flex-end;width: 50%;}#sk-container-id-6 div.sk-parallel-item:last-child::after {align-self: flex-start;width: 50%;}#sk-container-id-6 div.sk-parallel-item:only-child::after {width: 0;}#sk-container-id-6 div.sk-dashed-wrapped {border: 1px dashed gray;margin: 0 0.4em 0.5em 0.4em;box-sizing: border-box;padding-bottom: 0.4em;background-color: white;}#sk-container-id-6 div.sk-label label {font-family: monospace;font-weight: bold;display: inline-block;line-height: 1.2em;}#sk-container-id-6 div.sk-label-container {text-align: center;}#sk-container-id-6 div.sk-container {/* jupyter's `normalize.less` sets `[hidden] { display: none; }` but bootstrap.min.css set `[hidden] { display: none !important; }` so we also need the `!important` here to be able to override the default hidden behavior on the sphinx rendered scikit-learn.org. See: https://github.com/scikit-learn/scikit-learn/issues/21755 */display: inline-block !important;position: relative;}#sk-container-id-6 div.sk-text-repr-fallback {display: none;}</style><div id=\"sk-container-id-6\" class=\"sk-top-container\"><div class=\"sk-text-repr-fallback\"><pre>LogisticRegression()</pre><b>In a Jupyter environment, please rerun this cell to show the HTML representation or trust the notebook. <br />On GitHub, the HTML representation is unable to render, please try loading this page with nbviewer.org.</b></div><div class=\"sk-container\" hidden><div class=\"sk-item\"><div class=\"sk-estimator sk-toggleable\"><input class=\"sk-toggleable__control sk-hidden--visually\" id=\"sk-estimator-id-6\" type=\"checkbox\" checked><label for=\"sk-estimator-id-6\" class=\"sk-toggleable__label sk-toggleable__label-arrow\">LogisticRegression</label><div class=\"sk-toggleable__content\"><pre>LogisticRegression()</pre></div></div></div></div></div>"
      ],
      "text/plain": [
       "LogisticRegression()"
      ]
     },
     "execution_count": 55,
     "metadata": {},
     "output_type": "execute_result"
    }
   ],
   "source": [
    "logreg_reduced = LogisticRegression()\n",
    "logreg_reduced.fit(Xr_train,yr_train.ravel())"
   ]
  },
  {
   "cell_type": "code",
   "execution_count": 56,
   "metadata": {},
   "outputs": [],
   "source": [
    "yr_pred = logreg_reduced.predict(Xr_test)\n",
    "yr_pred_proba = logreg_reduced.predict_proba(Xr_test)"
   ]
  },
  {
   "cell_type": "code",
   "execution_count": 57,
   "metadata": {},
   "outputs": [
    {
     "name": "stdout",
     "output_type": "stream",
     "text": [
      "The Logisitic Regression score is: 0.62\n",
      "\n",
      "Confussion Matrix:\n",
      "[[331 173]\n",
      " [167 218]]\n"
     ]
    }
   ],
   "source": [
    "score_reduced = logreg_reduced.score(Xr_test,yr_test)\n",
    "print('The Logisitic Regression score is: ' + str(round(score,2)))\n",
    "print(\"\")\n",
    "conf_mat_reduced = confusion_matrix(yr_test,yr_pred)\n",
    "print('Confussion Matrix:')\n",
    "print(conf_mat)"
   ]
  },
  {
   "cell_type": "code",
   "execution_count": 62,
   "metadata": {},
   "outputs": [],
   "source": [
    "fpr,tpr,thresh = roc_curve(y_test,y_pred)\n",
    "\n",
    "fpr_r, tpr_r, thresh_r = roc_curve(yr_test,yr_pred)"
   ]
  },
  {
   "cell_type": "code",
   "execution_count": 67,
   "metadata": {},
   "outputs": [
    {
     "data": {
      "text/plain": [
       "<function matplotlib.pyplot.show(close=None, block=None)>"
      ]
     },
     "execution_count": 67,
     "metadata": {},
     "output_type": "execute_result"
    },
    {
     "data": {
      "image/png": "[encoded data removed]",
      "text/plain": [
       "<Figure size 640x480 with 1 Axes>"
      ]
     },
     "metadata": {},
     "output_type": "display_data"
    }
   ],
   "source": [
    "plt.plot(fpr,tpr, label = 'Full Model', color = 'red')\n",
    "plt.plot(fpr_r,tpr_r,label = 'Reduced Model', color = 'blue')\n",
    "plt.plot([0,1],[0,1], label = 'Random', linestyle = '--', color = 'grey')\n",
    "\n",
    "plt.title('ROC Curves')\n",
    "plt.xlabel('FPR')\n",
    "plt.ylabel('TPR')\n",
    "plt.legend()\n",
    "plt.show"
   ]
  }
 ],
 "metadata": {
  "kernelspec": {
   "display_name": "Python 3",
   "language": "python",
   "name": "python3"
  },
  "language_info": {
   "codemirror_mode": {
    "name": "ipython",
    "version": 3
   },
   "file_extension": ".py",
   "mimetype": "text/x-python",
   "name": "python",
   "nbconvert_exporter": "python",
   "pygments_lexer": "ipython3",
   "version": "3.10.11"
  },
  "orig_nbformat": 4
 },
 "nbformat": 4,
 "nbformat_minor": 2
}
